{
 "cells": [
  {
   "cell_type": "code",
   "execution_count": null,
   "source": [
    "#Created <Put Creation Date in ISO here!>\n",
    "#Copyright Spencer W. Leifeld"
   ],
   "outputs": [],
   "metadata": {}
  }
 ],
 "metadata": {
  "orig_nbformat": 4,
  "language_info": {
   "name": "python"
  }
 },
 "nbformat": 4,
 "nbformat_minor": 2
}