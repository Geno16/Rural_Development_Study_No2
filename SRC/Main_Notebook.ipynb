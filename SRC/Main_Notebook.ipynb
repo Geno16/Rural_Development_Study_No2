{
 "cells": [
  {
   "cell_type": "code",
   "execution_count": 1,
   "source": [
    "#Created 2021-09-08\n",
    "#Copyright Spencer W. Leifeld"
   ],
   "outputs": [],
   "metadata": {}
  },
  {
   "cell_type": "code",
   "execution_count": 2,
   "source": [
    "from pyspark.sql import SparkSession as Session\n",
    "from pyspark import SparkConf as Conf\n",
    "from pyspark import SparkContext as Context"
   ],
   "outputs": [],
   "metadata": {}
  },
  {
   "cell_type": "code",
   "execution_count": 3,
   "source": [
    "import os\n",
    "os.environ['SPARK_LOCAL_IP']='192.168.1.2'\n",
    "os.environ['HADOOP_HOME']='/home/geno1664/Developments/Github_Samples/RDS-ENV/hadoop'\n",
    "os.environ['LD_LIBRARY_PATH']='$LD_LIBRARY_PATH:$HADOOP_HOME/lib/native'\n",
    "os.environ['PYSPARK_DRIVER_PYTHON']='jupyter'\n",
    "os.environ['PYSPARK_DRIVER_PYTHON_OPTS']='notebook'\n",
    "os.environ['PYSPARK_PYTHON']='python3'\n",
    "os.environ['PYARROW_IGNORE_TIMEZONE']='1'"
   ],
   "outputs": [],
   "metadata": {}
  },
  {
   "cell_type": "code",
   "execution_count": 4,
   "source": [
    "configuration = Conf().setAppName('RDS_2').setMaster('spark://GenoMachine:7077')\n",
    "configuration.set('spark.executor.memory','10G').set('spark.driver.memory', '2G').set('spark.cores.max', '8')"
   ],
   "outputs": [
    {
     "output_type": "execute_result",
     "data": {
      "text/plain": [
       "<pyspark.conf.SparkConf at 0x7fe9197f2a90>"
      ]
     },
     "metadata": {},
     "execution_count": 4
    }
   ],
   "metadata": {}
  },
  {
   "cell_type": "code",
   "execution_count": 5,
   "source": [
    "context = Context(conf=configuration)"
   ],
   "outputs": [
    {
     "output_type": "stream",
     "name": "stderr",
     "text": [
      "21/09/09 11:34:42 WARN NativeCodeLoader: Unable to load native-hadoop library for your platform... using builtin-java classes where applicable\n",
      "Using Spark's default log4j profile: org/apache/spark/log4j-defaults.properties\n",
      "Setting default log level to \"WARN\".\n",
      "To adjust logging level use sc.setLogLevel(newLevel). For SparkR, use setLogLevel(newLevel).\n"
     ]
    }
   ],
   "metadata": {}
  },
  {
   "cell_type": "code",
   "execution_count": 6,
   "source": [
    "session = Session(context)"
   ],
   "outputs": [],
   "metadata": {}
  },
  {
   "cell_type": "code",
   "execution_count": 7,
   "source": [
    "from Functions.IO import CSV_File"
   ],
   "outputs": [],
   "metadata": {}
  },
  {
   "cell_type": "code",
   "execution_count": 8,
   "source": [
    "csvDF = CSV_File(session, r'/home/geno1664/Developments/Github_Samples/RDS-ENV/Rural_Development_Study_No2/IO/Jobs.csv')\n",
    "employmentByJob = csvDF.GetSparkDF().select('State', 'County', 'PctEmpAgriculture', 'PctEmpConstruction', 'PctEmpMining', 'PctEmpTrade', 'PctEmpTrans', \\\n",
    "    'PctEmpInformation', 'PctEmpFIRE', 'PctEmpServices', 'PctEmpGovt', 'PctEmpManufacturing')"
   ],
   "outputs": [
    {
     "output_type": "stream",
     "name": "stdout",
     "text": [
      "Now Reading: /home/geno1664/Developments/Github_Samples/RDS-ENV/Rural_Development_Study_No2/IO/Jobs.csv\n"
     ]
    },
    {
     "output_type": "stream",
     "name": "stderr",
     "text": []
    }
   ],
   "metadata": {}
  },
  {
   "cell_type": "code",
   "execution_count": 9,
   "source": [
    "employmentByJob = employmentByJob.withColumnRenamed('PctEmpAgriculture', 'Farmers').withColumnRenamed('PctEmpConstruction', 'Builders').withColumnRenamed('PctEmpMining', 'Miners') \\\n",
    "    .withColumnRenamed('PctEmpTrade', 'Retail_Associates').withColumnRenamed('PctEmpFIRE', 'Businessmen').withColumnRenamed('PctEmpServices', 'Hospitality_Associates') \\\n",
    "        .withColumnRenamed('PctEmpGovt', 'Civil_Servants').withColumnRenamed('PctEmpManufacturing', 'Craftsmen').withColumnRenamed('PctEmpInformation', 'Technologists') \\\n",
    "            .withColumnRenamed('PctEmpTrans', 'Teamsters')"
   ],
   "outputs": [],
   "metadata": {}
  },
  {
   "cell_type": "code",
   "execution_count": 10,
   "source": [
    "employmentByJob = employmentByJob.where(employmentByJob.State != 'US')\n",
    "employmentByJob = employmentByJob.repartition('State')"
   ],
   "outputs": [],
   "metadata": {}
  },
  {
   "cell_type": "code",
   "execution_count": 11,
   "source": [
    "employmentByJob.show()"
   ],
   "outputs": [
    {
     "output_type": "stream",
     "name": "stdout",
     "text": [
      "+-----+--------------+-------------+------------+-------------+-----------------+-------------+-------------+-------------+----------------------+--------------+-------------+\n",
      "|State|        County|      Farmers|    Builders|       Miners|Retail_Associates|    Teamsters|Technologists|  Businessmen|Hospitality_Associates|Civil_Servants|    Craftsmen|\n",
      "+-----+--------------+-------------+------------+-------------+-----------------+-------------+-------------+-------------+----------------------+--------------+-------------+\n",
      "|   AZ|       Arizona| 0.9066464622|6.9362734607|  0.461149062|    14.3824716721| 5.3067438219| 1.8067447802| 8.4040479669|         49.9525658823|  4.8267488815| 7.0166080102|\n",
      "|   AZ|        Apache| 1.7880434783|9.0217391304| 1.0815217391|     9.6847826087| 7.6032608696| 0.6684782609| 3.1847826087|         53.5054347826| 11.4456521739| 2.0163043478|\n",
      "|   AZ|       Cochise|  2.239488117|6.7664533821| 0.4981718464|    12.9547531993| 4.4881170018| 1.4008226691| 4.1933272395|         47.4428702011| 16.5036563071| 3.5123400366|\n",
      "|   AZ|      Coconino|  1.132894343|5.1780903921| 0.2065249925|    11.5698892547| 4.7381023646| 1.0116731518| 3.6815324753|         60.2349595929|  5.8380724334| 6.4082609997|\n",
      "|   AZ|          Gila| 2.0326290452|8.9382187751| 5.8250869216|    11.9604172239| 4.4878309708| 1.3426049746| 4.6589997325|         48.5958812517|  7.9219042525| 4.2364268521|\n",
      "|   AZ|        Graham|  2.938034188|7.5167887668| 9.6535409035|    16.5216727717|  3.083028083| 1.4117826618| 3.4493284493|         43.5821123321|  7.5015262515| 4.3421855922|\n",
      "|   AZ|      Greenlee| 2.1447028424|7.4160206718|38.7080103359|     9.9483204134| 2.7906976744| 0.2583979328| 1.3953488372|         31.6795865633|  3.9018087855| 1.7571059432|\n",
      "|   AZ|        La Paz|10.5194805195|4.6915584416| 0.6980519481|     17.224025974| 5.7467532468| 1.1525974026|  2.224025974|         42.0454545455| 10.5519480519| 5.1461038961|\n",
      "|   AZ|      Maricopa| 0.4348187667| 7.077300362|  0.155689584|    14.5641803717| 5.5263516709|  1.993551937|10.0048447504|         49.1126660729|  3.6962737971| 7.4343226875|\n",
      "|   AZ|        Mohave| 0.5470849558|6.9475675972| 0.3277025174|    16.1451763286| 5.8492842648| 1.6056052213| 5.3447046564|          52.003235891|  5.2336422969| 5.9959962705|\n",
      "|   AZ|        Navajo| 1.7267694149|8.0472841538| 1.4185246147|    14.5563369744| 6.4132874458| 1.3377225797| 4.2675445159|         50.2768217866|   9.097710609| 2.8579979051|\n",
      "|   AZ|          Pima| 0.4919542187|6.5273543123| 0.6106863389|    13.4167295798| 4.3778548914| 1.6333507324| 5.7638843773|         54.5515846258|  5.9341417572| 6.6924591662|\n",
      "|   AZ|         Pinal| 1.9860834738|6.2700414454| 1.0133208279|    14.8037364225| 5.2478485152| 1.3758095793| 6.8860188342|         46.5265719464|  7.3061762506| 8.5843927046|\n",
      "|   AZ|    Santa Cruz| 0.7166579269|6.1935559051| 0.8739730816|    21.7444502709|11.4315679077| 0.8331876712| 4.4980481268|         40.7329720911|   8.180388044| 4.7951989745|\n",
      "|   AZ|       Yavapai| 0.8167020684|7.9273487284| 1.5788816066|    15.2117859536| 4.4356350171| 1.5936481252| 4.6900734918|         53.3593829867|  4.7764008315| 5.6101411906|\n",
      "|   AZ|          Yuma|11.4369656008|6.1064780048| 0.2490020157|    14.4987681646| 4.6190532654| 1.0236749536| 3.9063014637|         43.4752249582| 10.1234470311| 4.5610845421|\n",
      "|   SC|South Carolina| 0.8771579029| 6.824077545| 0.0843759105|    14.3167023433| 5.0981507173| 1.6106570291| 5.7970205636|         47.3103200967|  4.4240662949|13.6574715967|\n",
      "|   SC|     Abbeville| 1.7121931908|8.9172604909|          NaN|    10.4612034838| 3.2462391132| 1.7715756136| 2.7019002375|         44.2992874109|  3.1967537609|23.6935866983|\n",
      "|   SC|         Aiken|  1.067635629|7.4636288388| 0.3002286789|     13.552378681| 6.3917843965| 1.0704415045| 4.5230713113|         46.3586750656|  5.1501844863|14.1219714081|\n",
      "|   SC|     Allendale| 7.0588235294|3.7370242215|          NaN|     7.3702422145| 7.7162629758| 0.7266435986| 2.3529411765|         42.0069204152| 15.2595155709|13.7716262976|\n",
      "+-----+--------------+-------------+------------+-------------+-----------------+-------------+-------------+-------------+----------------------+--------------+-------------+\n",
      "only showing top 20 rows\n",
      "\n"
     ]
    }
   ],
   "metadata": {}
  },
  {
   "cell_type": "code",
   "execution_count": 12,
   "source": [
    "csvDF = CSV_File(session, r'/home/geno1664/Developments/Github_Samples/RDS-ENV/Rural_Development_Study_No2/IO/People.csv')\n",
    "educationRate = csvDF.GetSparkDF().select('State', 'County', 'Ed1LessThanHSPct', 'Ed2HSDiplomaOnlyPct', 'Ed3SomeCollegePct', 'Ed4AssocDegreePct', 'Ed5CollegePlusPct')"
   ],
   "outputs": [
    {
     "output_type": "stream",
     "name": "stdout",
     "text": [
      "Now Reading: /home/geno1664/Developments/Github_Samples/RDS-ENV/Rural_Development_Study_No2/IO/People.csv\n"
     ]
    }
   ],
   "metadata": {}
  },
  {
   "cell_type": "code",
   "execution_count": 13,
   "source": [
    "educationRate = educationRate.withColumnRenamed('Ed1LessThanHSPct', 'Some_High_School').withColumnRenamed('Ed2HSDiplomaOnlyPct', 'High_School_Degree') \\\n",
    "    .withColumnRenamed('Ed3SomeCollegePct', 'Some_College').withColumnRenamed('Ed4AssocDegreePct', 'Associates_Degree').withColumnRenamed('Ed5CollegePlusPct', 'College_Graduate')"
   ],
   "outputs": [],
   "metadata": {}
  },
  {
   "cell_type": "code",
   "execution_count": 14,
   "source": [
    "educationRate = educationRate.where(educationRate.State != 'US')\n",
    "educationRate = educationRate.repartition('State')"
   ],
   "outputs": [],
   "metadata": {}
  },
  {
   "cell_type": "code",
   "execution_count": 15,
   "source": [
    "educationRate.show()"
   ],
   "outputs": [
    {
     "output_type": "stream",
     "name": "stdout",
     "text": [
      "+-----+--------------+----------------+------------------+-------------+-----------------+----------------+\n",
      "|State|        County|Some_High_School|High_School_Degree| Some_College|Associates_Degree|College_Graduate|\n",
      "+-----+--------------+----------------+------------------+-------------+-----------------+----------------+\n",
      "|   AZ|       Arizona|   12.8607054321|     23.8588772353|25.1858413213|     8.6277705042|   29.4668055071|\n",
      "|   AZ|        Apache|   19.5977663574|      32.238759483| 28.234221006|     7.6286457986|    12.300607355|\n",
      "|   AZ|       Cochise|   12.6165291708|     24.1034242746|28.7691552847|    11.4013167654|   23.1095745045|\n",
      "|   AZ|      Coconino|    9.4800192585|     22.0389985556|23.8854116514|     8.4352431391|   36.1603273953|\n",
      "|   AZ|          Gila|   13.6740401729|     27.8540554284|30.8619374523|     8.8761759471|   18.7337909992|\n",
      "|   AZ|        Graham|   14.7431030119|     28.7226862398|30.8529486206|    10.5289800051|   15.1522821227|\n",
      "|   AZ|      Greenlee|   11.9405534677|      34.711308507|30.7311240178|     9.1048855483|   13.5121284592|\n",
      "|   AZ|        La Paz|   23.0611100729|     31.1468261384|27.3033077929|     6.4785398368|    12.010216159|\n",
      "|   AZ|      Maricopa|   12.2741475225|     22.3936237653| 24.116624375|     8.5175323875|   32.6980719497|\n",
      "|   AZ|        Mohave|   13.9326098074|     35.3441799092|29.4511683113|      8.326230657|    12.945811315|\n",
      "|   AZ|        Navajo|   16.6182204892|     30.3197447714|  29.94966324|     7.8582063098|   15.2541651896|\n",
      "|   AZ|          Pima|   11.6155183744|     22.2479078342|25.0945036667|     8.6588621177|   32.3832080069|\n",
      "|   AZ|         Pinal|    14.233029233|     29.2657832058|27.6249110582|     9.3441522216|   19.5321242814|\n",
      "|   AZ|    Santa Cruz|   23.4011330285|     28.6601597161|21.3432530203|     6.1634018156|   20.4320524196|\n",
      "|   AZ|       Yavapai|    8.9507176897|     25.8408241304|29.7434580373|     9.5876494592|   25.8773506834|\n",
      "|   AZ|          Yuma|   26.7469588578|     25.7078390534|24.7796492499|     7.7394427843|   15.0261100546|\n",
      "|   SC|South Carolina|   12.4889649492|     29.1031459214|20.5041179633|     9.7840393783|   28.1197317877|\n",
      "|   SC|     Abbeville|    18.349106204|     34.0285080033|18.9332865989|    13.1090080617|   15.5800911321|\n",
      "|   SC|         Aiken|   12.0274768556|     32.7587813286|20.3188128372|     8.4776771724|   26.4172518062|\n",
      "|   SC|     Allendale|   20.2017018594|     45.8556571068|18.0586196029|     6.6656161361|    9.2184052947|\n",
      "+-----+--------------+----------------+------------------+-------------+-----------------+----------------+\n",
      "only showing top 20 rows\n",
      "\n"
     ]
    }
   ],
   "metadata": {}
  },
  {
   "cell_type": "code",
   "execution_count": 16,
   "source": [
    "from databricks import koalas as ks"
   ],
   "outputs": [],
   "metadata": {}
  },
  {
   "cell_type": "code",
   "execution_count": 17,
   "source": [
    "employmentByJob = employmentByJob.to_koalas().melt(id_vars=['State', 'County'], var_name='Employment_Catagory', value_name='Employment_Rate').to_spark()\n",
    "educationRate = educationRate.to_koalas().melt(id_vars=['State', 'County'], var_name='Education_Catagory', value_name='Education_Rate').to_spark()"
   ],
   "outputs": [],
   "metadata": {}
  },
  {
   "cell_type": "code",
   "execution_count": 18,
   "source": [
    "mainDF = employmentByJob.join(educationRate, on=['State', 'County'], how='cross') \\\n",
    "    .fillna(0, subset=['Employment_Rate', 'Education_Rate']).fillna('NONE', subset=['Employment_Catagory', 'Education_Catagory'])"
   ],
   "outputs": [],
   "metadata": {}
  },
  {
   "cell_type": "code",
   "execution_count": 19,
   "source": [
    "mainDF = mainDF.to_koalas()\n",
    "mainDF['Hueristic'] = (mainDF['Employment_Rate'] / 100) * (mainDF['Education_Rate'] / 100) * 100\n",
    "mainDF = mainDF.to_spark().select('Employment_Catagory', 'Education_Catagory', 'Hueristic')"
   ],
   "outputs": [],
   "metadata": {}
  },
  {
   "cell_type": "code",
   "execution_count": 20,
   "source": [
    "mainDF = mainDF.groupBy('Employment_Catagory').pivot('Education_Catagory').mean()"
   ],
   "outputs": [
    {
     "output_type": "stream",
     "name": "stderr",
     "text": []
    }
   ],
   "metadata": {}
  },
  {
   "cell_type": "code",
   "execution_count": 21,
   "source": [
    "mainDF.show()"
   ],
   "outputs": [
    {
     "output_type": "stream",
     "name": "stderr",
     "text": []
    },
    {
     "output_type": "stream",
     "name": "stdout",
     "text": [
      "+--------------------+-------------------+------------------+------------------+-------------------+-------------------+\n",
      "| Employment_Catagory|  Associates_Degree|  College_Graduate|High_School_Degree|       Some_College|   Some_High_School|\n",
      "+--------------------+-------------------+------------------+------------------+-------------------+-------------------+\n",
      "|      Civil_Servants| 0.4991104160220651|1.2303817172617337|1.9110977940676062| 1.2117440410274674| 0.7875654587994716|\n",
      "|             Farmers|0.47202349285225276|0.9679238794088135|1.6797872795044708|  1.095120845562527| 0.6669638029817897|\n",
      "|           Teamsters| 0.5024450736540681|1.1749227199195111|1.9199246920936035|  1.202032973463126| 0.7515646439894451|\n",
      "|Hospitality_Assoc...|  3.935964409264519|10.041532500582806|14.451049048084114|  9.269000425159337|  5.665075456559447|\n",
      "|           Craftsmen| 1.1229021642002426|2.4930672079499114| 4.326239662101073|  2.558292794172981| 1.6696027899509687|\n",
      "|            Builders| 0.6699352044400888|1.6028506972195458|2.5252228004261936| 1.5947577638466666| 0.9909776943898683|\n",
      "|   Retail_Associates| 1.2503402365356289| 3.007014284284859| 4.627269661442165|   2.92366568811121| 1.8138084026862697|\n",
      "|         Businessmen|0.41945193672782904|1.1147968785080435|1.4900064972792575| 0.9758996792495697| 0.5636743692177182|\n",
      "|              Miners|0.12237693936802581|0.2592785843139131|0.5196688663459296| 0.3294158221097878|0.22655149660944368|\n",
      "|       Technologists|0.12194626782785829| 0.330375580821019| 0.434600252554067|0.28573413322552266|0.16474194351938426|\n",
      "+--------------------+-------------------+------------------+------------------+-------------------+-------------------+\n",
      "\n"
     ]
    }
   ],
   "metadata": {}
  }
 ],
 "metadata": {
  "orig_nbformat": 4,
  "language_info": {
   "name": "python",
   "version": "3.8.10",
   "mimetype": "text/x-python",
   "codemirror_mode": {
    "name": "ipython",
    "version": 3
   },
   "pygments_lexer": "ipython3",
   "nbconvert_exporter": "python",
   "file_extension": ".py"
  },
  "kernelspec": {
   "name": "python3",
   "display_name": "Python 3.8.10 64-bit ('RDS-ENV': venv)"
  },
  "interpreter": {
   "hash": "bcb7c92ec30a48671b2bbe6ad838283083cf4acf6e28fba1bfae084ec93c4ac6"
  }
 },
 "nbformat": 4,
 "nbformat_minor": 2
}